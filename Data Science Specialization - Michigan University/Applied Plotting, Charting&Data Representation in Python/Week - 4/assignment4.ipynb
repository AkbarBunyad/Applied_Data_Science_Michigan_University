{
 "cells": [
  {
   "cell_type": "markdown",
   "metadata": {
    "deletable": false,
    "editable": false,
    "nbgrader": {
     "cell_type": "markdown",
     "checksum": "7539457c865cc3aec382650368b3be67",
     "grade": false,
     "grade_id": "cell-2ccb6b5d27ca3b7d",
     "locked": true,
     "schema_version": 3,
     "solution": false,
     "task": false
    }
   },
   "source": [
    "# Assignment 4\n",
    "\n",
    "Before working on this assignment please read these instructions fully. In the submission area, you will notice that you can click the link to **Preview the Grading** for each step of the assignment. This is the criteria that will be used for peer grading. Please familiarize yourself with the criteria before beginning the assignment.\n",
    "\n",
    "This assignment requires that you find **at least two datasets** on the web which are related, and that you visualize these datasets to answer the assignment question. You are free to utilize datasets with any location or domain, the usage of **Ann Arbor sports and athletics** datasets in the example is just a suggestion.\n",
    "\n",
    "You are welcome to choose datasets at your discretion, but keep in mind **they will be shared with your peers**, so choose appropriate datasets. Sensitive, confidential, illicit, and proprietary materials are not good choices for datasets for this assignment. You are welcome to upload datasets of your own as well, and link to them using a third party repository such as github, pastebin, etc. Please be aware of the Coursera terms of service with respect to intellectual property.\n",
    "\n",
    "Also, you are welcome to preserve data in its original language, but for the purposes of grading you should provide english translations. You are welcome to provide multiple visuals in different languages if you would like!\n",
    "\n",
    "As this assignment is for the whole course, you must incorporate principles discussed in the first week, such as having as high data-ink ratio (Tufte) and aligning with Cairo’s principles of truth, beauty, function, and insight.\n",
    "\n",
    "Here are the assignment instructions:\n",
    "\n",
    " * You must state a question you are seeking to answer with your visualizations.\n",
    " * You must provide at least two links to available datasets. These could be links to files such as CSV or Excel files, or links to websites which might have data in tabular form, such as Wikipedia pages.\n",
    " * You must upload an image which addresses the research question you stated. In addition to addressing the question, this visual should follow Cairo's principles of truthfulness, functionality, beauty, and insightfulness.\n",
    " * You must contribute a short (1-2 paragraph) written justification of how your visualization addresses your stated research question.\n",
    "\n",
    "## Tips\n",
    "* Wikipedia is an excellent source of data, and I strongly encourage you to explore it for new data sources.\n",
    "* Many governments run open data initiatives at the city, region, and country levels, and these are wonderful resources for localized data sources.\n",
    "* Several international agencies, such as the [United Nations](http://data.un.org/), the [World Bank](http://data.worldbank.org/), the [Global Open Data Index](http://index.okfn.org/place/) are other great places to look for data.\n",
    "* This assignment requires you to convert and clean datafiles. Check out the discussion forums for tips on how to do this from various sources, and share your successes with your fellow students!\n",
    "\n",
    "## Example\n",
    "Looking for an example? Here's what our course assistant put together as an example! [Example Solution File](./readonly/Assignment4_example.pdf)"
   ]
  },
  {
   "cell_type": "code",
   "execution_count": 12,
   "metadata": {},
   "outputs": [
    {
     "data": {
      "text/html": [
       "<div>\n",
       "<style scoped>\n",
       "    .dataframe tbody tr th:only-of-type {\n",
       "        vertical-align: middle;\n",
       "    }\n",
       "\n",
       "    .dataframe tbody tr th {\n",
       "        vertical-align: top;\n",
       "    }\n",
       "\n",
       "    .dataframe thead th {\n",
       "        text-align: right;\n",
       "    }\n",
       "</style>\n",
       "<table border=\"1\" class=\"dataframe\">\n",
       "  <thead>\n",
       "    <tr style=\"text-align: right;\">\n",
       "      <th></th>\n",
       "      <th>work_year</th>\n",
       "      <th>experience_level</th>\n",
       "      <th>employment_type</th>\n",
       "      <th>job_title</th>\n",
       "      <th>salary</th>\n",
       "      <th>salary_currency</th>\n",
       "      <th>salary_in_usd</th>\n",
       "      <th>employee_residence</th>\n",
       "      <th>remote_ratio</th>\n",
       "      <th>company_location</th>\n",
       "      <th>company_size</th>\n",
       "    </tr>\n",
       "  </thead>\n",
       "  <tbody>\n",
       "    <tr>\n",
       "      <th>0</th>\n",
       "      <td>2023</td>\n",
       "      <td>SE</td>\n",
       "      <td>FT</td>\n",
       "      <td>Principal Data Scientist</td>\n",
       "      <td>80000</td>\n",
       "      <td>EUR</td>\n",
       "      <td>85847</td>\n",
       "      <td>ES</td>\n",
       "      <td>100</td>\n",
       "      <td>ES</td>\n",
       "      <td>L</td>\n",
       "    </tr>\n",
       "    <tr>\n",
       "      <th>1</th>\n",
       "      <td>2023</td>\n",
       "      <td>MI</td>\n",
       "      <td>CT</td>\n",
       "      <td>ML Engineer</td>\n",
       "      <td>30000</td>\n",
       "      <td>USD</td>\n",
       "      <td>30000</td>\n",
       "      <td>US</td>\n",
       "      <td>100</td>\n",
       "      <td>US</td>\n",
       "      <td>S</td>\n",
       "    </tr>\n",
       "    <tr>\n",
       "      <th>2</th>\n",
       "      <td>2023</td>\n",
       "      <td>MI</td>\n",
       "      <td>CT</td>\n",
       "      <td>ML Engineer</td>\n",
       "      <td>25500</td>\n",
       "      <td>USD</td>\n",
       "      <td>25500</td>\n",
       "      <td>US</td>\n",
       "      <td>100</td>\n",
       "      <td>US</td>\n",
       "      <td>S</td>\n",
       "    </tr>\n",
       "    <tr>\n",
       "      <th>3</th>\n",
       "      <td>2023</td>\n",
       "      <td>SE</td>\n",
       "      <td>FT</td>\n",
       "      <td>Data Scientist</td>\n",
       "      <td>175000</td>\n",
       "      <td>USD</td>\n",
       "      <td>175000</td>\n",
       "      <td>CA</td>\n",
       "      <td>100</td>\n",
       "      <td>CA</td>\n",
       "      <td>M</td>\n",
       "    </tr>\n",
       "    <tr>\n",
       "      <th>4</th>\n",
       "      <td>2023</td>\n",
       "      <td>SE</td>\n",
       "      <td>FT</td>\n",
       "      <td>Data Scientist</td>\n",
       "      <td>120000</td>\n",
       "      <td>USD</td>\n",
       "      <td>120000</td>\n",
       "      <td>CA</td>\n",
       "      <td>100</td>\n",
       "      <td>CA</td>\n",
       "      <td>M</td>\n",
       "    </tr>\n",
       "  </tbody>\n",
       "</table>\n",
       "</div>"
      ],
      "text/plain": [
       "   work_year experience_level employment_type                 job_title  \\\n",
       "0       2023               SE              FT  Principal Data Scientist   \n",
       "1       2023               MI              CT               ML Engineer   \n",
       "2       2023               MI              CT               ML Engineer   \n",
       "3       2023               SE              FT            Data Scientist   \n",
       "4       2023               SE              FT            Data Scientist   \n",
       "\n",
       "   salary salary_currency  salary_in_usd employee_residence  remote_ratio  \\\n",
       "0   80000             EUR          85847                 ES           100   \n",
       "1   30000             USD          30000                 US           100   \n",
       "2   25500             USD          25500                 US           100   \n",
       "3  175000             USD         175000                 CA           100   \n",
       "4  120000             USD         120000                 CA           100   \n",
       "\n",
       "  company_location company_size  \n",
       "0               ES            L  \n",
       "1               US            S  \n",
       "2               US            S  \n",
       "3               CA            M  \n",
       "4               CA            M  "
      ]
     },
     "execution_count": 12,
     "metadata": {},
     "output_type": "execute_result"
    }
   ],
   "source": [
    "import pandas as pd\n",
    "import matplotlib.pyplot as plt\n",
    "import numpy as np\n",
    "df212 = pd.read_csv('ds_salaries2020.csv')\n",
    "df23 = pd.read_csv('ds_salaries2023.csv')\n",
    "df23.head()"
   ]
  },
  {
   "cell_type": "code",
   "execution_count": 2,
   "metadata": {
    "collapsed": true,
    "jupyter": {
     "outputs_hidden": true
    },
    "tags": []
   },
   "outputs": [
    {
     "name": "stdout",
     "output_type": "stream",
     "text": [
      "['Data Scientist' 'Machine Learning Scientist' 'Big Data Engineer'\n",
      " 'Product Data Analyst' 'Machine Learning Engineer' 'Data Analyst'\n",
      " 'Lead Data Scientist' 'Business Data Analyst' 'Lead Data Engineer'\n",
      " 'Lead Data Analyst' 'Data Engineer' 'Data Science Consultant'\n",
      " 'BI Data Analyst' 'Director of Data Science' 'Research Scientist'\n",
      " 'Machine Learning Manager' 'Data Engineering Manager'\n",
      " 'Machine Learning Infrastructure Engineer' 'ML Engineer' 'AI Scientist'\n",
      " 'Computer Vision Engineer' 'Principal Data Scientist'\n",
      " 'Data Science Manager' 'Head of Data' '3D Computer Vision Researcher'\n",
      " 'Data Analytics Engineer' 'Applied Data Scientist'\n",
      " 'Marketing Data Analyst' 'Cloud Data Engineer' 'Financial Data Analyst'\n",
      " 'Computer Vision Software Engineer' 'Director of Data Engineering'\n",
      " 'Data Science Engineer' 'Principal Data Engineer'\n",
      " 'Machine Learning Developer' 'Applied Machine Learning Scientist'\n",
      " 'Data Analytics Manager' 'Head of Data Science' 'Data Specialist'\n",
      " 'Data Architect' 'Finance Data Analyst' 'Principal Data Analyst'\n",
      " 'Big Data Architect' 'Staff Data Scientist' 'Analytics Engineer'\n",
      " 'ETL Developer' 'Head of Machine Learning' 'NLP Engineer'\n",
      " 'Lead Machine Learning Engineer' 'Data Analytics Lead']\n"
     ]
    }
   ],
   "source": [
    "print(df212['job_title'].unique())\n"
   ]
  },
  {
   "cell_type": "code",
   "execution_count": 3,
   "metadata": {
    "collapsed": true,
    "jupyter": {
     "outputs_hidden": true
    },
    "tags": []
   },
   "outputs": [
    {
     "name": "stdout",
     "output_type": "stream",
     "text": [
      "['Principal Data Scientist' 'ML Engineer' 'Data Scientist'\n",
      " 'Applied Scientist' 'Data Analyst' 'Data Modeler' 'Research Engineer'\n",
      " 'Analytics Engineer' 'Business Intelligence Engineer'\n",
      " 'Machine Learning Engineer' 'Data Strategist' 'Data Engineer'\n",
      " 'Computer Vision Engineer' 'Data Quality Analyst'\n",
      " 'Compliance Data Analyst' 'Data Architect'\n",
      " 'Applied Machine Learning Engineer' 'AI Developer' 'Research Scientist'\n",
      " 'Data Analytics Manager' 'Business Data Analyst' 'Applied Data Scientist'\n",
      " 'Staff Data Analyst' 'ETL Engineer' 'Data DevOps Engineer' 'Head of Data'\n",
      " 'Data Science Manager' 'Data Manager' 'Machine Learning Researcher'\n",
      " 'Big Data Engineer' 'Data Specialist' 'Lead Data Analyst'\n",
      " 'BI Data Engineer' 'Director of Data Science'\n",
      " 'Machine Learning Scientist' 'MLOps Engineer' 'AI Scientist'\n",
      " 'Autonomous Vehicle Technician' 'Applied Machine Learning Scientist'\n",
      " 'Lead Data Scientist' 'Cloud Database Engineer' 'Financial Data Analyst'\n",
      " 'Data Infrastructure Engineer' 'Software Data Engineer' 'AI Programmer'\n",
      " 'Data Operations Engineer' 'BI Developer' 'Data Science Lead'\n",
      " 'Deep Learning Researcher' 'BI Analyst' 'Data Science Consultant'\n",
      " 'Data Analytics Specialist' 'Machine Learning Infrastructure Engineer'\n",
      " 'BI Data Analyst' 'Head of Data Science' 'Insight Analyst'\n",
      " 'Deep Learning Engineer' 'Machine Learning Software Engineer'\n",
      " 'Big Data Architect' 'Product Data Analyst'\n",
      " 'Computer Vision Software Engineer' 'Azure Data Engineer'\n",
      " 'Marketing Data Engineer' 'Data Analytics Lead' 'Data Lead'\n",
      " 'Data Science Engineer' 'Machine Learning Research Engineer'\n",
      " 'NLP Engineer' 'Manager Data Management' 'Machine Learning Developer'\n",
      " '3D Computer Vision Researcher' 'Principal Machine Learning Engineer'\n",
      " 'Data Analytics Engineer' 'Data Analytics Consultant'\n",
      " 'Data Management Specialist' 'Data Science Tech Lead'\n",
      " 'Data Scientist Lead' 'Cloud Data Engineer' 'Data Operations Analyst'\n",
      " 'Marketing Data Analyst' 'Power BI Developer' 'Product Data Scientist'\n",
      " 'Principal Data Architect' 'Machine Learning Manager'\n",
      " 'Lead Machine Learning Engineer' 'ETL Developer' 'Cloud Data Architect'\n",
      " 'Lead Data Engineer' 'Head of Machine Learning' 'Principal Data Analyst'\n",
      " 'Principal Data Engineer' 'Staff Data Scientist' 'Finance Data Analyst']\n"
     ]
    }
   ],
   "source": [
    "print(df23['job_title'].unique())"
   ]
  },
  {
   "cell_type": "code",
   "execution_count": 15,
   "metadata": {},
   "outputs": [],
   "source": [
    "df212['job_title'] = df212['job_title'].replace({'Machine Learning Engineer': 'ML Engineer',\n",
    "                                                 'Machine Learning Scientist': 'ML Engineer',\n",
    "                                                 'Product Data Analyst': 'Data Analyst',\n",
    "                                                 'Lead Data Engineer': 'Data Engineer',\n",
    "                                                 'Business Data Analyst': 'Data Analyst',\n",
    "                                                 'Big Data Engineer': 'Data Engineer',\n",
    "                                                 'Principal Data Scienist': 'Data Scientist',\n",
    "                                                 'Applied Data Scientist': 'Data Scientist',\n",
    "                                                 'Marketing Data Analyst': 'Data Analyst',\n",
    "                                                 'Cloud Data Engineer': 'Data Engineer',\n",
    "                                                 'Financial Data Analyst': 'Data Analyst',\n",
    "                                                 'Data Analytics Engineer': 'Data Engineer',\n",
    "                                                'Lead Data Analyst': 'Data Analyst',\n",
    "                                                'Principal Data Engineer': 'Data Engineer',\n",
    "                                                'Principal Data Analyst': 'Data Analyst',\n",
    "                                                'Lead Data Scientist': 'Principal Data Scientist',\n",
    "                                                'Staff Data Scientist': 'Data Scientist',\n",
    "                                                'Principal Data Scienist': 'Data Scientist',\n",
    "                                                'Finance Data Analyst': 'Data Analyst'})\n",
    "df23['job_title'] = df23['job_title'].replace({'Machine Learning Engineer': 'ML Engineer',\n",
    "                                                 'Machine Learning Scientist': 'ML Engineer',\n",
    "                                                 'Product Data Analyst': 'Data Analyst',\n",
    "                                                 'Lead Data Engineer': 'Data Engineer',\n",
    "                                                 'Business Data Analyst': 'Data Analyst',\n",
    "                                                 'Big Data Engineer': 'Data Engineer',\n",
    "                                                 'Principal Data Scienist': 'Data Scientist',\n",
    "                                                 'Applied Data Scientist': 'Data Scientist',\n",
    "                                                 'Marketing Data Analyst': 'Data Analyst',\n",
    "                                                 'Cloud Data Engineer': 'Data Engineer',\n",
    "                                                 'Financial Data Analyst': 'Data Analyst',\n",
    "                                                 'Data Analytics Engineer': 'Data Engineer',\n",
    "                                                'Azure Data Engineer': 'Data Engineer',\n",
    "                                               'Lead Data Scientist': 'Data Scientist',\n",
    "                                              'Data Analytics Specialist': 'Data Analyst',\n",
    "                                              'Finance Data Analyst': 'Data Analyst'})\n",
    "\n",
    "df21 = df212[df212['work_year'] == 2021]\n",
    "df22 = df212[df212['work_year'] == 2022]\n",
    "\n",
    "def calculate_average_salary(df, position_column, salary_column, job_roles):\n",
    "    # Filter the DataFrame to include only the specified job roles\n",
    "    filtered_df = df[df[position_column].isin(job_roles)]\n",
    "    \n",
    "    # Group the filtered DataFrame by the position column and calculate the average salary\n",
    "    average_salary = filtered_df.groupby(position_column)[salary_column].mean()\n",
    "    \n",
    "    # Return the average salaries as a list\n",
    "    return average_salary.tolist()\n",
    "\n",
    "job_roles = ['Data Scientist', 'Data Analyst', 'Data Engineer', 'ML Engineer']\n",
    "av23 = calculate_average_salary(df23, 'job_title', 'salary_in_usd', job_roles)\n",
    "av21 = calculate_average_salary(df21, 'job_title', 'salary_in_usd', job_roles)\n",
    "av22 = calculate_average_salary(df22, 'job_title', 'salary_in_usd', job_roles)"
   ]
  },
  {
   "cell_type": "code",
   "execution_count": 5,
   "metadata": {
    "collapsed": true,
    "jupyter": {
     "outputs_hidden": true
    },
    "tags": []
   },
   "outputs": [
    {
     "name": "stdout",
     "output_type": "stream",
     "text": [
      "['Principal Data Scientist' 'ML Engineer' 'Data Scientist'\n",
      " 'Applied Scientist' 'Data Analyst' 'Data Modeler' 'Research Engineer'\n",
      " 'Analytics Engineer' 'Business Intelligence Engineer' 'Data Strategist'\n",
      " 'Data Engineer' 'Computer Vision Engineer' 'Data Quality Analyst'\n",
      " 'Compliance Data Analyst' 'Data Architect'\n",
      " 'Applied Machine Learning Engineer' 'AI Developer' 'Research Scientist'\n",
      " 'Data Analytics Manager' 'Staff Data Analyst' 'ETL Engineer'\n",
      " 'Data DevOps Engineer' 'Head of Data' 'Data Science Manager'\n",
      " 'Data Manager' 'Machine Learning Researcher' 'Data Specialist'\n",
      " 'Lead Data Analyst' 'BI Data Engineer' 'Director of Data Science'\n",
      " 'MLOps Engineer' 'AI Scientist' 'Autonomous Vehicle Technician'\n",
      " 'Applied Machine Learning Scientist' 'Cloud Database Engineer'\n",
      " 'Data Infrastructure Engineer' 'Software Data Engineer' 'AI Programmer'\n",
      " 'Data Operations Engineer' 'BI Developer' 'Data Science Lead'\n",
      " 'Deep Learning Researcher' 'BI Analyst' 'Data Science Consultant'\n",
      " 'Machine Learning Infrastructure Engineer' 'BI Data Analyst'\n",
      " 'Head of Data Science' 'Insight Analyst' 'Deep Learning Engineer'\n",
      " 'Machine Learning Software Engineer' 'Big Data Architect'\n",
      " 'Computer Vision Software Engineer' 'Marketing Data Engineer'\n",
      " 'Data Analytics Lead' 'Data Lead' 'Data Science Engineer'\n",
      " 'Machine Learning Research Engineer' 'NLP Engineer'\n",
      " 'Manager Data Management' 'Machine Learning Developer'\n",
      " '3D Computer Vision Researcher' 'Principal Machine Learning Engineer'\n",
      " 'Data Analytics Consultant' 'Data Management Specialist'\n",
      " 'Data Science Tech Lead' 'Data Scientist Lead' 'Data Operations Analyst'\n",
      " 'Power BI Developer' 'Product Data Scientist' 'Principal Data Architect'\n",
      " 'Machine Learning Manager' 'Lead Machine Learning Engineer'\n",
      " 'ETL Developer' 'Cloud Data Architect' 'Head of Machine Learning'\n",
      " 'Principal Data Analyst' 'Principal Data Engineer' 'Staff Data Scientist']\n"
     ]
    }
   ],
   "source": [
    "print(df23['job_title'].unique())"
   ]
  },
  {
   "cell_type": "code",
   "execution_count": 16,
   "metadata": {},
   "outputs": [
    {
     "data": {
      "text/plain": [
       "<Figure size 1152x576 with 0 Axes>"
      ]
     },
     "metadata": {},
     "output_type": "display_data"
    },
    {
     "data": {
      "image/png": "[encoded data removed]",
      "text/plain": [
       "<Figure size 720x432 with 1 Axes>"
      ]
     },
     "metadata": {
      "needs_background": "light"
     },
     "output_type": "display_data"
    }
   ],
   "source": [
    "fig = plt.figure(figsize = (16,8))\n",
    "\n",
    "bar_width = 0.2\n",
    "\n",
    "# Create the x-axis positions for each year's bars\n",
    "x_21 = np.arange(len(job_roles))\n",
    "x_22 = x_21 + bar_width\n",
    "x_23 = x_22 + bar_width\n",
    "\n",
    "plt.figure(figsize=(10, 6))\n",
    "bars21 = plt.bar(x_21, av21, width=bar_width, label='2021')\n",
    "bars22 = plt.bar(x_22, av22, width=bar_width, label='2022')\n",
    "bars23 = plt.bar(x_23, av23, width=bar_width, label='2023')\n",
    "\n",
    "plt.xlabel('Job Roles')\n",
    "plt.ylabel('Average Salary')\n",
    "plt.title('Average Salary by Job Roles')\n",
    "\n",
    "# Set the x-axis tick positions and labels\n",
    "plt.xticks(x_22, job_roles)\n",
    "\n",
    "for bars, av in zip([bars21, bars22, bars23], [av21, av22, av23]):\n",
    "    for bar, v in zip(bars, av):\n",
    "        height = bar.get_height()\n",
    "        plt.text(bar.get_x() + bar.get_width()/2, bar.get_y() + height - 28000, f'{v:.2f}', ha='center', \n",
    "                color='black', fontsize=12, rotation='vertical')\n",
    "\n",
    "plt.legend()\n",
    "plt.tight_layout()\n",
    "plt.show()\n",
    "\n",
    "\n",
    "\n"
   ]
  },
  {
   "cell_type": "code",
   "execution_count": null,
   "metadata": {},
   "outputs": [],
   "source": []
  }
 ],
 "metadata": {
  "coursera": {
   "schema_names": [
    "mooc_adswpy_v1_assignment4"
   ]
  },
  "kernelspec": {
   "display_name": "Python 3 (ipykernel)",
   "language": "python",
   "name": "python3"
  },
  "language_info": {
   "codemirror_mode": {
    "name": "ipython",
    "version": 3
   },
   "file_extension": ".py",
   "mimetype": "text/x-python",
   "name": "python",
   "nbconvert_exporter": "python",
   "pygments_lexer": "ipython3",
   "version": "3.8.10"
  },
  "vscode": {
   "interpreter": {
    "hash": "aee8b7b246df8f9039afb4144a1f6fd8d2ca17a180786b69acc140d282b71a49"
   }
  }
 },
 "nbformat": 4,
 "nbformat_minor": 4
}
